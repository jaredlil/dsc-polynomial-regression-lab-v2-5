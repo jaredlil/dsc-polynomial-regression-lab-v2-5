{
 "cells": [
  {
   "cell_type": "markdown",
   "metadata": {},
   "source": [
    "# Polynomial Regression - Lab"
   ]
  },
  {
   "cell_type": "markdown",
   "metadata": {},
   "source": [
    "## Introduction"
   ]
  },
  {
   "cell_type": "markdown",
   "metadata": {},
   "source": [
    "In this lab, you'll practice your knowledge on adding polynomial terms to your regression model! "
   ]
  },
  {
   "cell_type": "markdown",
   "metadata": {},
   "source": [
    "## Objectives"
   ]
  },
  {
   "cell_type": "markdown",
   "metadata": {},
   "source": [
    "You will be able to:\n",
    "\n",
    "* Determine if polynomial regression would be useful for a specific model or set of data\n",
    "* Create polynomial terms out of independent variables in linear regression"
   ]
  },
  {
   "cell_type": "markdown",
   "metadata": {},
   "source": [
    "## Dataset"
   ]
  },
  {
   "cell_type": "markdown",
   "metadata": {},
   "source": [
    "For this lab you'll be using some generated data:"
   ]
  },
  {
   "cell_type": "code",
   "execution_count": 3,
   "metadata": {},
   "outputs": [
    {
     "data": {
      "text/html": [
       "<div>\n",
       "<style scoped>\n",
       "    .dataframe tbody tr th:only-of-type {\n",
       "        vertical-align: middle;\n",
       "    }\n",
       "\n",
       "    .dataframe tbody tr th {\n",
       "        vertical-align: top;\n",
       "    }\n",
       "\n",
       "    .dataframe thead th {\n",
       "        text-align: right;\n",
       "    }\n",
       "</style>\n",
       "<table border=\"1\" class=\"dataframe\">\n",
       "  <thead>\n",
       "    <tr style=\"text-align: right;\">\n",
       "      <th></th>\n",
       "      <th>x</th>\n",
       "      <th>y</th>\n",
       "    </tr>\n",
       "  </thead>\n",
       "  <tbody>\n",
       "    <tr>\n",
       "      <th>0</th>\n",
       "      <td>0.000000</td>\n",
       "      <td>0.942870</td>\n",
       "    </tr>\n",
       "    <tr>\n",
       "      <th>1</th>\n",
       "      <td>0.121212</td>\n",
       "      <td>-2.261629</td>\n",
       "    </tr>\n",
       "    <tr>\n",
       "      <th>2</th>\n",
       "      <td>0.242424</td>\n",
       "      <td>3.100749</td>\n",
       "    </tr>\n",
       "    <tr>\n",
       "      <th>3</th>\n",
       "      <td>0.363636</td>\n",
       "      <td>-0.285446</td>\n",
       "    </tr>\n",
       "    <tr>\n",
       "      <th>4</th>\n",
       "      <td>0.484848</td>\n",
       "      <td>-1.012210</td>\n",
       "    </tr>\n",
       "  </tbody>\n",
       "</table>\n",
       "</div>"
      ],
      "text/plain": [
       "          x         y\n",
       "0  0.000000  0.942870\n",
       "1  0.121212 -2.261629\n",
       "2  0.242424  3.100749\n",
       "3  0.363636 -0.285446\n",
       "4  0.484848 -1.012210"
      ]
     },
     "execution_count": 3,
     "metadata": {},
     "output_type": "execute_result"
    }
   ],
   "source": [
    "# Run this cell without changes\n",
    "import numpy as np\n",
    "import pandas as pd\n",
    "import matplotlib.pyplot as plt\n",
    "%matplotlib inline\n",
    "\n",
    "df = pd.read_csv('sample_data.csv')\n",
    "df.head()"
   ]
  },
  {
   "cell_type": "markdown",
   "metadata": {},
   "source": [
    "Let's check out a scatter plot of `x` vs. `y`: "
   ]
  },
  {
   "cell_type": "code",
   "execution_count": 4,
   "metadata": {},
   "outputs": [
    {
     "data": {
      "image/png": "[encoded data removed]",
      "text/plain": [
       "<Figure size 432x288 with 1 Axes>"
      ]
     },
     "metadata": {
      "needs_background": "light"
     },
     "output_type": "display_data"
    }
   ],
   "source": [
    "# Run this cell without changes\n",
    "df.plot.scatter(x=\"x\", y=\"y\");"
   ]
  },
  {
   "cell_type": "markdown",
   "metadata": {},
   "source": [
    "You will notice that the data is clearly of non-linear shape. Begin to think about what degree polynomial you believe will fit it best.\n",
    "\n",
    "You will fit several different models with different polynomial degrees, then plot them in the same plot at the end."
   ]
  },
  {
   "cell_type": "code",
   "execution_count": 5,
   "metadata": {},
   "outputs": [],
   "source": [
    "# Your code here - import StatsModels and separate the data into X and y\n",
    "import statsmodels.api as sm\n",
    "X = df[[\"x\"]]\n",
    "y = df['y']"
   ]
  },
  {
   "cell_type": "markdown",
   "metadata": {},
   "source": [
    "## Build and Evaluate a Quadratic Model\n",
    "\n",
    "This model should include a constant, `x`, and `x` squared. You can use `pandas` or `PolynomialFeatures` to create the squared term."
   ]
  },
  {
   "cell_type": "code",
   "execution_count": 6,
   "metadata": {},
   "outputs": [],
   "source": [
    "# Your code here - prepare quadratic data and fit a model\n",
    "from sklearn.preprocessing import PolynomialFeatures\n",
    "\n",
    "poly_2 = PolynomialFeatures(degree=2)\n",
    "\n",
    "x_2 = pd.DataFrame(poly_2.fit_transform(X), columns=poly_2.get_feature_names([\"x\"]))\n",
    "square_results = sm.OLS(y, x_2).fit() "
   ]
  },
  {
   "cell_type": "code",
   "execution_count": 7,
   "metadata": {},
   "outputs": [
    {
     "name": "stdout",
     "output_type": "stream",
     "text": [
      "\n",
      "R-Squared Values\n",
      "Quadratic Regression: -0.015664188856822525\n",
      "\n"
     ]
    }
   ],
   "source": [
    "# Your code here - evaluate (adjusted) R-Squared and coefficient p-values\n",
    "print(f\"\"\"\n",
    "R-Squared Values\n",
    "Quadratic Regression: {square_results.rsquared_adj}\n",
    "\"\"\")"
   ]
  },
  {
   "cell_type": "code",
   "execution_count": 8,
   "metadata": {},
   "outputs": [
    {
     "data": {
      "text/plain": [
       "1      0.938055\n",
       "x      0.893974\n",
       "x^2    0.967420\n",
       "dtype: float64"
      ]
     },
     "execution_count": 8,
     "metadata": {},
     "output_type": "execute_result"
    }
   ],
   "source": [
    "square_results.pvalues"
   ]
  },
  {
   "cell_type": "code",
   "execution_count": 9,
   "metadata": {},
   "outputs": [
    {
     "data": {
      "text/plain": [
       "'\\nThis is not a great model because we have a negative r-squared, many terms \\nand it explains very little of our y variance. Also, none of our coefficients p-values\\nare statistically significant.\\n'"
      ]
     },
     "execution_count": 9,
     "metadata": {},
     "output_type": "execute_result"
    }
   ],
   "source": [
    "# Your written answer here - summarize findings\n",
    "\"\"\"\n",
    "This is not a great model because we have a negative r-squared, many terms \n",
    "and it explains very little of our y variance. Also, none of our coefficients p-values\n",
    "are statistically significant.\n",
    "\"\"\""
   ]
  },
  {
   "cell_type": "markdown",
   "metadata": {},
   "source": [
    "<details>\n",
    "    <summary style=\"cursor: pointer\"><b>Answer (click to reveal)</b></summary>\n",
    "    \n",
    "This is not a good model. Because we have multiple terms and are explaining so little of the variance in `y`, we actually have a negative adjusted R-Squared.\n",
    "\n",
    "None of the coefficients are statistically significant at an alpha of 0.05\n",
    "    \n",
    "</details>"
   ]
  },
  {
   "cell_type": "markdown",
   "metadata": {},
   "source": [
    "## Build and Evaluate a 4th Degree Polynomial Model\n",
    "\n",
    "In other words, the model should include $x^0$ (intercept), $x^1$, $x^2$, $x^3$, and $x^4$ terms.\n",
    "\n",
    "At this point we recommend importing and using `PolynomialFeatures` if you haven't already!"
   ]
  },
  {
   "cell_type": "code",
   "execution_count": 12,
   "metadata": {},
   "outputs": [],
   "source": [
    "# Your code here - prepare 4th degree polynomial data and fit a model\n",
    "poly_4 = PolynomialFeatures(degree=4)\n",
    "\n",
    "x_4 = pd.DataFrame(poly_4.fit_transform(X), columns=poly_4.get_feature_names([\"x\"]))\n",
    "x_4_results = sm.OLS(y, x_4).fit()\n"
   ]
  },
  {
   "cell_type": "code",
   "execution_count": 13,
   "metadata": {},
   "outputs": [
    {
     "name": "stdout",
     "output_type": "stream",
     "text": [
      "\n",
      "R-squared values:0.5667967820112241\n",
      "\n"
     ]
    }
   ],
   "source": [
    "# Your code here - evaluate (adjusted) R-Squared and coefficient p-values\n",
    "print(f\"\"\"\n",
    "R-squared values:{x_4_results.rsquared_adj}\n",
    "\"\"\")"
   ]
  },
  {
   "cell_type": "code",
   "execution_count": 15,
   "metadata": {},
   "outputs": [
    {
     "data": {
      "text/plain": [
       "1      1.995047e-04\n",
       "x      1.738988e-10\n",
       "x^2    3.340296e-14\n",
       "x^3    1.715785e-16\n",
       "x^4    7.408453e-18\n",
       "dtype: float64"
      ]
     },
     "execution_count": 15,
     "metadata": {},
     "output_type": "execute_result"
    }
   ],
   "source": [
    "x_4_results.pvalues"
   ]
  },
  {
   "cell_type": "code",
   "execution_count": null,
   "metadata": {},
   "outputs": [],
   "source": [
    "# Your written answer here - summarize findings\n",
    "\"\"\"\n",
    "This model is much better, it explains about 57% of our y values and the \n",
    "coefficients p-values are statistically significant\n",
    "\"\"\""
   ]
  },
  {
   "cell_type": "markdown",
   "metadata": {},
   "source": [
    "<details>\n",
    "    <summary style=\"cursor: pointer\"><b>Answer (click to reveal)</b></summary>\n",
    "    \n",
    "This is much better. We are explaining 57-58% of the variance in the target and all of our coefficients are statistically significant at an alpha of 0.05.\n",
    "    \n",
    "</details>"
   ]
  },
  {
   "cell_type": "markdown",
   "metadata": {},
   "source": [
    "## Build and Evaluate an 8th Degree Polynomial Model\n",
    "\n",
    "This model should include $x^0$ through $x^8$."
   ]
  },
  {
   "cell_type": "code",
   "execution_count": 17,
   "metadata": {},
   "outputs": [],
   "source": [
    "# Your code here - prepare 8th degree polynomial data and fit a model\n",
    "poly_8 = PolynomialFeatures(degree=8)\n",
    "\n",
    "x_8 = pd.DataFrame(poly_8.fit_transform(X), columns=poly_8.get_feature_names([\"x\"]))\n",
    "poly_8_results = sm.OLS(y, x_8).fit()"
   ]
  },
  {
   "cell_type": "code",
   "execution_count": 21,
   "metadata": {},
   "outputs": [
    {
     "name": "stdout",
     "output_type": "stream",
     "text": [
      "\n",
      "R-Squared Values\n",
      "Quadratic Regression:       -0.015664188856822525\n",
      "4th Degree Poly Regression: 0.5667967820112241\n",
      "8th Degree Poly Regression: 0.8188676291759164\n",
      "\n"
     ]
    }
   ],
   "source": [
    "# Your code here - evaluate (adjusted) R-Squared and coefficient p-values\n",
    "print(f\"\"\"\n",
    "R-Squared Values\n",
    "Quadratic Regression:       {square_results.rsquared_adj}\n",
    "4th Degree Poly Regression: {x_4_results.rsquared_adj}\n",
    "8th Degree Poly Regression: {poly_8_results.rsquared_adj}\n",
    "\"\"\")"
   ]
  },
  {
   "cell_type": "code",
   "execution_count": 22,
   "metadata": {},
   "outputs": [
    {
     "data": {
      "text/plain": [
       "1      0.683776\n",
       "x      0.618134\n",
       "x^2    0.371163\n",
       "x^3    0.199162\n",
       "x^4    0.144776\n",
       "x^5    0.157523\n",
       "x^6    0.225536\n",
       "x^7    0.357352\n",
       "x^8    0.554141\n",
       "dtype: float64"
      ]
     },
     "execution_count": 22,
     "metadata": {},
     "output_type": "execute_result"
    }
   ],
   "source": [
    "poly_8_results.pvalues"
   ]
  },
  {
   "cell_type": "code",
   "execution_count": null,
   "metadata": {},
   "outputs": [],
   "source": [
    "# Your written answer here - summarize findings\n",
    "\"\"\"\n",
    "At first it seemed like the results were much better because it explains about \n",
    "82% of our y values, however, none of the coefficient p-values are statistically\n",
    "significant making this a poor model and too high a degree of polynomial. \n",
    "\"\"\""
   ]
  },
  {
   "cell_type": "markdown",
   "metadata": {},
   "source": [
    "<details>\n",
    "    <summary style=\"cursor: pointer\"><b>Answer (click to reveal)</b></summary>\n",
    "    \n",
    "Our R-Squared is higher, but none of the coefficients are statistically significant at an alpha of 0.05 any more. If what we care about is an inferential understanding of the data, this is too high a degree of the polynomial.\n",
    "    \n",
    "</details>"
   ]
  },
  {
   "cell_type": "markdown",
   "metadata": {},
   "source": [
    "## Plot All Models\n",
    "\n",
    "Build a single plot that shows the raw data as a scatter plot, as well as all of the models you have developed as line graphs. Make sure that everything is labeled so you can tell the different models apart!"
   ]
  },
  {
   "cell_type": "code",
   "execution_count": 24,
   "metadata": {},
   "outputs": [
    {
     "data": {
      "image/png": "[encoded data removed]",
      "text/plain": [
       "<Figure size 720x432 with 1 Axes>"
      ]
     },
     "metadata": {
      "needs_background": "light"
     },
     "output_type": "display_data"
    }
   ],
   "source": [
    "# Your code here\n",
    "fig, ax = plt.subplots(figsize=(10,6))\n",
    "\n",
    "models = [square_results, x_4_results, poly_8_results]\n",
    "data = [x_2, x_4, x_8]\n",
    "colors = ['yellow', 'green', 'cyan']\n",
    "\n",
    "ax.scatter(X, y, label='data points', color='black')\n",
    "for i, model in enumerate(models):\n",
    "    ax.plot(\n",
    "        X,\n",
    "        model.predict(data[i]), \n",
    "        label=f\"polynomial degree {(i +1)*2}\",\n",
    "        color=colors[i], \n",
    "        linewidth=5,\n",
    "        alpha=0.7\n",
    "    )\n",
    "    \n",
    "ax.legend();"
   ]
  },
  {
   "cell_type": "markdown",
   "metadata": {},
   "source": [
    "### Interpret Findings\n",
    "\n",
    "Based on the metrics as well as the graphs, which model do you think is the best? Why?"
   ]
  },
  {
   "cell_type": "code",
   "execution_count": null,
   "metadata": {},
   "outputs": [],
   "source": [
    "# Your written answer here\n",
    "\"\"\"\n",
    "Based purely off of the visualization it appears that the 8th degree polynomial\n",
    "best represents the data overall as it deals with the tail ends of the graph or extremes \n",
    "better than the 4th degree visualization. However, keeping our coefficients in mind\n",
    "only the 4th degree had statistically significant results. \n",
    "\n",
    "Overall none of them seem particularly suited to the inferential linear regression approach\n",
    "even after the polynomial transformations. Depending on what you want from the model\n",
    "you could say either the 4th or 8th degree polynomial is better but aren't particularly\n",
    "useful to gain insight from for stakeholders.\n",
    "\"\"\""
   ]
  },
  {
   "cell_type": "markdown",
   "metadata": {},
   "source": [
    "<details>\n",
    "    <summary style=\"cursor: pointer\"><b>Answer (click to reveal)</b></summary>\n",
    "    \n",
    "The quadratic model (polynomial degree 2) is definitely not the best based on all of the evidence we have. It has the worst R-Squared, the coefficient p-values are not significant, and you can see from the graph that there is a lot of variance in the data that it is not picking up on.\n",
    "\n",
    "Our visual inspection aligns with the worse R-Squared for the 4th degree polynomial compared to the 8th degree polynomial. The 4th degree polynomial is flatter and doesn't seem to capture the extremes of the data as well.\n",
    "    \n",
    "However if we wanted to interpret the coefficients, then only the 4th degree polynomial has statistically significant results. The interpretation would be challenging because of the number of terms, but we could apply some calculus techniques to describe inflection points.\n",
    "\n",
    "Overall it appears that this dataset is not particularly well suited to an inferential linear regression approach, even with polynomial transformations. So the \"best\" model could be either the 4th or 8th degree polynomial depending on which aspect of the model is more important to you, but either way it will be challenging to translate it into insights for stakeholders.\n",
    "    \n",
    "</details>"
   ]
  },
  {
   "cell_type": "markdown",
   "metadata": {},
   "source": [
    "## Summary"
   ]
  },
  {
   "cell_type": "markdown",
   "metadata": {},
   "source": [
    "Great job! You now know how to include polynomials in your linear models as well as the limitations of applying polynomial regression. "
   ]
  }
 ],
 "metadata": {
  "kernelspec": {
   "display_name": "Python (learn-env)",
   "language": "python",
   "name": "learn-env"
  },
  "language_info": {
   "codemirror_mode": {
    "name": "ipython",
    "version": 3
   },
   "file_extension": ".py",
   "mimetype": "text/x-python",
   "name": "python",
   "nbconvert_exporter": "python",
   "pygments_lexer": "ipython3",
   "version": "3.8.5"
  }
 },
 "nbformat": 4,
 "nbformat_minor": 2
}
